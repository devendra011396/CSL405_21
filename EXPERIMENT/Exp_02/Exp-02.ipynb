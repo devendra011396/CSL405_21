{
  "metadata": {
    "kernelspec": {
      "name": "python",
      "display_name": "Python (Pyodide)",
      "language": "python"
    },
    "language_info": {
      "codemirror_mode": {
        "name": "python",
        "version": 3
      },
      "file_extension": ".py",
      "mimetype": "text/x-python",
      "name": "python",
      "nbconvert_exporter": "python",
      "pygments_lexer": "ipython3",
      "version": "3.8"
    }
  },
  "nbformat_minor": 5,
  "nbformat": 4,
  "cells": [
    {
      "id": "af0e87b7-8e81-4d15-baf4-1abefee21aac",
      "cell_type": "code",
      "source": "class Employee:\n    def __init__ (\n            self,\n            designation : str = 'Developer',\n            frontend : bool = True,\n            backend : bool = True\n    ):\n        self.designation = designation\n        self.frontend = frontend\n        self.backend = backend\n\n    def __repr__ (self):\n        return '{}'.format (self.designation, self.frontend, self.backend)\n    \n    ### Write the your method over here.\n    def verifier (self):\n        if self.frontend and  self.backend :\n            print ('Fullstack Developer')\n        elif self.backend :\n            print (\"Backend developer\")\n        elif self.frontend :\n            print (\"Front developer\")\n        else:\n            print(\"employee is not skilled in any of the field\")    \n\nif __name__ == '__main__':\n    firstEmployee = Employee ()\n    firstEmployee.verifier()\n\n    # Call the method here to display output.",
      "metadata": {
        "trusted": true
      },
      "outputs": [
        {
          "name": "stdout",
          "output_type": "stream",
          "text": "Fullstack Developer\n"
        }
      ],
      "execution_count": 2
    },
    {
      "id": "0e24921c-89a5-475a-a91d-41d1d26fb664",
      "cell_type": "code",
      "source": "class Employee:\n    def __init__ (\n            self,\n            designation : str = 'Developer',\n            frontend : bool = False,\n            backend : bool = True\n    ):\n        self.designation = designation\n        self.frontend = frontend\n        self.backend = backend\n\n    def __repr__ (self):\n        return '{}'.format (self.designation, self.frontend, self.backend)\n    \n    ### Write the your method over here.\n    def verifier (self):\n        if self.frontend and  self.backend :\n            print ('Fullstack Developer')\n        elif self.backend :\n            print (\"Backend developer\")\n        elif self.frontend :\n            print (\"Front developer\")\n        else:\n            print(\"employee is not skilled in any of the field\")    \n\nif __name__ == '__main__':\n    firstEmployee = Employee ()\n    firstEmployee.verifier()\n\n    # Call the method here to display output.",
      "metadata": {
        "trusted": true
      },
      "outputs": [
        {
          "name": "stdout",
          "output_type": "stream",
          "text": "Backend developer\n"
        }
      ],
      "execution_count": 3
    },
    {
      "id": "d7ba7676-16d2-495e-b255-cedb77766c7d",
      "cell_type": "code",
      "source": "",
      "metadata": {
        "trusted": true
      },
      "outputs": [],
      "execution_count": null
    }
  ]
}
