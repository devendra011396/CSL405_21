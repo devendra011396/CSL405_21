{
  "metadata": {
    "kernelspec": {
      "name": "python",
      "display_name": "Python (Pyodide)",
      "language": "python"
    },
    "language_info": {
      "codemirror_mode": {
        "name": "python",
        "version": 3
      },
      "file_extension": ".py",
      "mimetype": "text/x-python",
      "name": "python",
      "nbconvert_exporter": "python",
      "pygments_lexer": "ipython3",
      "version": "3.8"
    }
  },
  "nbformat_minor": 5,
  "nbformat": 4,
  "cells": [
    {
      "id": "cc5f46f5-a990-4a4a-b777-56ec56cd1796",
      "cell_type": "markdown",
      "source": "#### DEVENDRA 21",
      "metadata": {}
    },
    {
      "id": "1c5ff90b-3c6e-4340-a10a-abfb3e8289fe",
      "cell_type": "code",
      "source": "stack = list ()\n\n# Append Operation\nstack.append ('a')\nstack.append ('b')\nstack.append ('c')\nprint ('Initial Stack')\nprint (stack)",
      "metadata": {
        "trusted": true
      },
      "outputs": [
        {
          "name": "stdout",
          "output_type": "stream",
          "text": "Initial Stack\n['a', 'b', 'c']\n"
        }
      ],
      "execution_count": 1
    },
    {
      "id": "c9122f27-cec1-4a22-8118-ea620c84b63b",
      "cell_type": "code",
      "source": "# Pop Operation\nprint (stack.pop ())\nprint (stack.pop ())\nprint (stack.pop ())\nprint (stack)",
      "metadata": {
        "trusted": true
      },
      "outputs": [
        {
          "name": "stdout",
          "output_type": "stream",
          "text": "c\nb\na\n[]\n"
        }
      ],
      "execution_count": 2
    },
    {
      "id": "25248067-367b-4568-9db4-dc5ee716de8b",
      "cell_type": "code",
      "source": "class StackDepth:\n    def maximumDepth (self, stringinput : str) -> int:\n        stack =[]\n        counter = 0\n        for _ in stringinput:\n          if _ == '(':\n              stack.append(_)\n              counter = max(counter ,len(stack))\n          elif _ ==')':\n            stack.pop()\n        return counter\n\nexp = '(1+(2*3)+((8)/4))+1'\ns = StackDepth()\nprint (s.maximumDepth(exp))",
      "metadata": {
        "trusted": true
      },
      "outputs": [
        {
          "name": "stdout",
          "output_type": "stream",
          "text": "3\n"
        }
      ],
      "execution_count": 8
    },
    {
      "id": "2a6cd460-f060-4752-907c-a839290231b9",
      "cell_type": "code",
      "source": "",
      "metadata": {
        "trusted": true
      },
      "outputs": [],
      "execution_count": null
    }
  ]
}