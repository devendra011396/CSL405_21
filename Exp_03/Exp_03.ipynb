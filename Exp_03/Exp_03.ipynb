{
  "metadata": {
    "kernelspec": {
      "name": "python",
      "display_name": "Python (Pyodide)",
      "language": "python"
    },
    "language_info": {
      "codemirror_mode": {
        "name": "python",
        "version": 3
      },
      "file_extension": ".py",
      "mimetype": "text/x-python",
      "name": "python",
      "nbconvert_exporter": "python",
      "pygments_lexer": "ipython3",
      "version": "3.8"
    }
  },
  "nbformat_minor": 5,
  "nbformat": 4,
  "cells": [
    {
      "id": "db0686c8-3c91-461c-9ee2-23f3580b1370",
      "cell_type": "markdown",
      "source": "### Experiment 03",
      "metadata": {}
    },
    {
      "id": "185a6ee5-3c2e-4bf2-8b6f-6de46584c645",
      "cell_type": "code",
      "source": "# Open the file in read mode\nif __name__ == '__main__':\n    with open('file.txt', 'r') as file:  \n        print(\"=== File Contents ===\")\n        print(file.read())                                                                   \n        \n    with open('file.txt', 'r') as file:  \n        lines = file.readlines() \n                                                                                             \n        numberOfLines = len(lines)  \n                                                                                             \n        numberOfWords = sum(len(line.split()) for line in lines)  \n\n        numberOfCharacters = sum(len(line) for line in lines)  \n\n        numberOfNonSpaceCharacters = sum(len(line.replace(\" \", \"\").replace(\"\\n\", \"\")) for line in lines)\n\n        \n\n    # Print the calculated results\n    print(f\"Lines: {numberOfLines}\")  \n    print(f\"Words: {numberOfWords}\")  \n    print(f\"Characters (including spaces): {numberOfCharacters}\")  \n    print(f\"Characters (excluding spaces): {numberOfNonSpaceCharacters}\")  \n",
      "metadata": {
        "trusted": true
      },
      "outputs": [
        {
          "name": "stdout",
          "output_type": "stream",
          "text": "=== File Contents ===\npython file handling\nDevendra\nThis is a sample file.\nIt contains multiple lines.\nEach line has words and characters.\nPython is great for text processing!\nLines: 6\nWords: 25\nCharacters (including spaces): 153\nCharacters (excluding spaces): 129\n"
        }
      ],
      "execution_count": 8
    }
  ]
}
