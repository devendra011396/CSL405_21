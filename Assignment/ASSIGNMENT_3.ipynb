{
  "cells": [
    {
      "cell_type": "markdown",
      "metadata": {},
      "source": [
        "# ASSIGNMENT 03"
      ]
    },
    {
      "cell_type": "markdown",
      "metadata": {
        "id": "ngGI0UCdw799"
      },
      "source": [
        "# DEVENDRA GURAV AIDS 21"
      ]
    },
    {
      "cell_type": "code",
      "execution_count": 6,
      "metadata": {
        "colab": {
          "base_uri": "https://localhost:8080/"
        },
        "id": "fbBuTKdkwkvt",
        "outputId": "416ebc56-b24c-4b64-d5cc-7b4ff3e4abfa"
      },
      "outputs": [
        {
          "name": "stdout",
          "output_type": "stream",
          "text": [
            "Original list: [1, 2, 3, 4, 5]\n",
            "After rotating by 2: [4, 5, 1, 2, 3]\n"
          ]
        }
      ],
      "source": [
        "# Definition for singly-linked list.\n",
        "class ListNode(object):\n",
        "    def __init__(self, val=0, next=None):\n",
        "        self.val = val\n",
        "        self.next = next\n",
        "\n",
        "# Updated Solution with an example\n",
        "class Solution(object):\n",
        "    def rotateRight(self, head, k):\n",
        "        if not head or not head.next or k == 0:\n",
        "            return head\n",
        "\n",
        "        # Calculate the length of the list and identify the tail node\n",
        "        length, tail = 1, head\n",
        "        while tail.next:\n",
        "            tail = tail.next\n",
        "            length += 1  # Fixed the syntax issue\n",
        "\n",
        "        # Handle cases where k is greater than or equal to the length\n",
        "        k %= length\n",
        "        if k == 0:\n",
        "            return head\n",
        "\n",
        "        # Find the new head after rotation\n",
        "        cur = head\n",
        "        for i in range(length - k - 1):\n",
        "            cur = cur.next\n",
        "\n",
        "        # Reassign pointers to rotate the list\n",
        "        newHead = cur.next\n",
        "        cur.next = None\n",
        "        tail.next = head\n",
        "\n",
        "        return newHead\n",
        "\n",
        "# Example function to test the solution\n",
        "def print_linked_list(head):\n",
        "    \"\"\"Helper function to print the linked list.\"\"\"\n",
        "    result = []\n",
        "    while head:\n",
        "        result.append(head.val)\n",
        "        head = head.next\n",
        "    print(result)\n",
        "\n",
        "# Create an example linked list: [1, 2, 3, 4, 5]\n",
        "node1 = ListNode(1)\n",
        "node2 = ListNode(2)\n",
        "node3 = ListNode(3)\n",
        "node4 = ListNode(4)\n",
        "node5 = ListNode(5)\n",
        "\n",
        "node1.next = node2\n",
        "node2.next = node3\n",
        "node3.next = node4\n",
        "node4.next = node5\n",
        "\n",
        "# Initialize the solution and rotate the linked list\n",
        "solution = Solution()\n",
        "k = 2  # Number of rotations\n",
        "rotated_head = solution.rotateRight(node1, k)\n",
        "\n",
        "# Print the result\n",
        "print(\"Original list: [1, 2, 3, 4, 5]\")\n",
        "print(\"After rotating by {}:\".format(k), end=\" \")\n",
        "print_linked_list(rotated_head)\n"
      ]
    }
  ],
  "metadata": {
    "colab": {
      "provenance": []
    },
    "kernelspec": {
      "display_name": "Python 3",
      "name": "python3"
    },
    "language_info": {
      "name": "python"
    }
  },
  "nbformat": 4,
  "nbformat_minor": 0
}
