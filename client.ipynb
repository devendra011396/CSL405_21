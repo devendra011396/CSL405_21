{
 "cells": [
  {
   "cell_type": "markdown",
   "id": "bd0e3409-da25-428d-9131-6e692214ce94",
   "metadata": {},
   "source": [
    "# DEVENDRA GURAV     AIDS 21"
   ]
  },
  {
   "cell_type": "markdown",
   "id": "37a03301-3570-4470-8c02-83c9ea2090e9",
   "metadata": {},
   "source": [
    "### client"
   ]
  },
  {
   "cell_type": "code",
   "execution_count": 5,
   "id": "a940f888-7a38-4a84-bca3-376e8dd64821",
   "metadata": {},
   "outputs": [],
   "source": [
    "import socket\n",
    "PORT = 5050\n",
    "#SERVER = ''\n",
    "SERVER = socket.gethostbyname (socket.gethostname ())\n",
    "ADDR = (SERVER, PORT)\n",
    "FORMAT = 'utf-8'\n",
    "HEADER = 64\n",
    "DISCONNECT_MESSAGE = '!DISCONNECT'\n",
    "\n",
    "client = socket.socket (socket.AF_INET, socket.SOCK_STREAM)\n",
    "client.connect (ADDR)\n"
   ]
  },
  {
   "cell_type": "code",
   "execution_count": 6,
   "id": "f3b35c2b-924c-437a-941e-fe25ecdfba77",
   "metadata": {},
   "outputs": [],
   "source": [
    "def send (messages):\n",
    "    message = messages.encode (FORMAT)\n",
    "    messageLength = len (message)\n",
    "    sendLength = str (messageLength).encode (FORMAT)\n",
    "    sendLength += b' ' * (HEADER - len (sendLength))\n",
    "    client.send (sendLength)\n",
    "    client.send (message)\n",
    "    print (client.recv (2045).decode (FORMAT))"
   ]
  },
  {
   "cell_type": "code",
   "execution_count": 7,
   "id": "f25e2ac9-d216-4ec9-b08b-67b761a3ff77",
   "metadata": {},
   "outputs": [
    {
     "name": "stdout",
     "output_type": "stream",
     "text": [
      "Message Recieved\n",
      "Message Recieved\n"
     ]
    }
   ],
   "source": [
    "if __name__ == '__main__':\n",
    "    send ('Hello World')\n",
    "    send (DISCONNECT_MESSAGE)"
   ]
  },
  {
   "cell_type": "code",
   "execution_count": null,
   "id": "17b7b75d-41f6-441b-99f2-8b189ce89b11",
   "metadata": {},
   "outputs": [],
   "source": []
  }
 ],
 "metadata": {
  "kernelspec": {
   "display_name": "Python 3 (ipykernel)",
   "language": "python",
   "name": "python3"
  },
  "language_info": {
   "codemirror_mode": {
    "name": "ipython",
    "version": 3
   },
   "file_extension": ".py",
   "mimetype": "text/x-python",
   "name": "python",
   "nbconvert_exporter": "python",
   "pygments_lexer": "ipython3",
   "version": "3.12.5"
  }
 },
 "nbformat": 4,
 "nbformat_minor": 5
}
