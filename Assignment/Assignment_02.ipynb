{
 "cells": [
  {
   "cell_type": "markdown",
   "metadata": {},
   "source": [
    "# PANKAJ BHANDARI AIDS 05"
   ]
  },
  {
   "cell_type": "code",
   "execution_count": 1,
   "metadata": {
    "colab": {
     "base_uri": "https://localhost:8080/"
    },
    "executionInfo": {
     "elapsed": 50916,
     "status": "ok",
     "timestamp": 1741782382781,
     "user": {
      "displayName": "FE_H_02_Punit_Ayare",
      "userId": "16300930824649991991"
     },
     "user_tz": -330
    },
    "id": "m9MUB4sc3MTj",
    "outputId": "7b815ab0-445f-4ddf-815c-ae0fc9499cd5"
   },
   "outputs": [
    {
     "name": "stdout",
     "output_type": "stream",
     "text": [
      "Enter log entries line by line (type 'END' to stop):\n",
      "[2025-02-10 14:23:01] [INFO] [Auth_Module] User login successful.\n",
      "[2025-02-10 15:45:32] [ERROR] [Net_Module] Connection timeout from 192.168.1.10. Error Code: 0xAB12CD34\n",
      "[2025-02-10 16:01:10] [WARN] [Disk_Module] Low disk space warning.\n",
      "[2025-02-10 17:12:05] [ERROR] [Security_Module] Unauthorized access detected from 10.0.0.5. Error Code: 0xDEADBEEF\n",
      "END\n",
      "\n",
      "Inputs:\n",
      "[2025-02-10 14:23:01] [INFO] [Auth_Module] User login successful.\n",
      "[2025-02-10 15:45:32] [ERROR] [Net_Module] Connection timeout from 192.168.1.10. Error Code: 0xAB12CD34\n",
      "[2025-02-10 16:01:10] [WARN] [Disk_Module] Low disk space warning.\n",
      "[2025-02-10 17:12:05] [ERROR] [Security_Module] Unauthorized access detected from 10.0.0.5. Error Code: 0xDEADBEEF\n",
      "\n",
      "Output:\n",
      "('2025-02-10 15:45:32', 'Net_Module', 'Connection timeout from 192.168.1.10. Error Code: 0xAB12CD34')\n",
      "('2025-02-10 17:12:05', 'Security_Module', 'Unauthorized access detected from 10.0.0.5. Error Code: 0xDEADBEEF')\n"
     ]
    }
   ],
   "source": [
    "import re\n",
    "\n",
    "def extract_critical_errors(log_data: str) -> list[tuple]:\n",
    "\n",
    "    pattern = r'\\[(\\d{4}-\\d{2}-\\d{2} \\d{2}:\\d{2}:\\d{2})\\] \\[ERROR\\] \\[([\\w_]+)\\] (.*?(?:\\d{1,3}\\.){3}\\d{1,3}.*?0x[0-9A-Fa-f]{8}.*)'\n",
    "\n",
    "    matches = re.findall(pattern, log_data)\n",
    "\n",
    "    return matches\n",
    "def get_user_input():\n",
    "    print(\"Enter log entries line by line (type 'END' to stop):\")\n",
    "\n",
    "    logs = []\n",
    "    while True:\n",
    "        log_entry = input()\n",
    "        if log_entry.strip().upper() == \"END\":\n",
    "            break\n",
    "        logs.append(log_entry)\n",
    "\n",
    "    log_data = \"\\n\".join(logs)\n",
    "\n",
    "    print(\"\\nInputs:\")\n",
    "    for log in logs:\n",
    "        print(log)\n",
    "\n",
    "    result = extract_critical_errors(log_data)\n",
    "\n",
    "    print(\"\\nOutput:\")\n",
    "    if result:\n",
    "        for item in result:\n",
    "            print(item)\n",
    "    else:\n",
    "        print(\"No critical errors found.\")\n",
    "\n",
    "get_user_input()"
   ]
  }
 ],
 "metadata": {
  "colab": {
   "authorship_tag": "ABX9TyMJ0luRTrUqV4ics5i5fvxV",
   "provenance": [
    {
     "file_id": "1DPXAOZB4qhzu2W3KnR9PBT8YO4Prd2Kc",
     "timestamp": 1741708866047
    }
   ]
  },
  "kernelspec": {
   "display_name": "Python 3",
   "name": "python3"
  },
  "language_info": {
   "name": "python"
  }
 },
 "nbformat": 4,
 "nbformat_minor": 0
}
