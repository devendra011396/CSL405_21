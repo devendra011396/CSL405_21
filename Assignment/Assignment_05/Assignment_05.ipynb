{
  "metadata": {
    "kernelspec": {
      "name": "python",
      "display_name": "Python (Pyodide)",
      "language": "python"
    },
    "language_info": {
      "codemirror_mode": {
        "name": "python",
        "version": 3
      },
      "file_extension": ".py",
      "mimetype": "text/x-python",
      "name": "python",
      "nbconvert_exporter": "python",
      "pygments_lexer": "ipython3",
      "version": "3.8"
    }
  },
  "nbformat_minor": 5,
  "nbformat": 4,
  "cells": [
    {
      "id": "d3e53bfc-1169-403c-9a7e-e9cb1b6401fc",
      "cell_type": "markdown",
      "source": "# DEVENDRA GURAV AI&DS 21",
      "metadata": {}
    },
    {
      "id": "bf2d0166-713c-4762-8540-263ce5c0a958",
      "cell_type": "markdown",
      "source": "## ASSIGNMENT 05",
      "metadata": {}
    },
    {
      "id": "749cb4e0-20e2-4dc9-b7b1-2a089d5a7d8e",
      "cell_type": "markdown",
      "source": "##### Given below is the code for multiprocessing",
      "metadata": {}
    },
    {
      "id": "1fc2c1f9-6ac1-40a3-a317-586a7dacb616",
      "cell_type": "code",
      "source": "from multiprocessing import Process, Array, Lock\nfrom time import sleep\n\ndef addThousands(inputNumber, lock):\n    for _ in range(1000):\n        sleep(0.01)\n        with lock:\n            for i in range(len(inputNumber)):\n                inputNumber[i] += 1\n\nif __name__ == '__main__':\n    sharedArray = Array('d', [0.0, 100.0, 200.0])\n    lock = Lock()\n\n    print(f'Number at the beginning : {sharedArray[:]}')\n\n    firstProcess = Process(target=addThousands, args=(sharedArray, lock))\n    secondProcess = Process(target=addThousands, args=(sharedArray, lock))\n    firstProcess.start()\n    secondProcess.start()\n    firstProcess.join()\n    secondProcess.join()\n\n    print(f'Value in the end : {sharedArray[:]}')\n",
      "metadata": {},
      "outputs": [
        {
          "name": "stdout",
          "output_type": "stream",
          "text": "Number at the beginning : [0.0, 100.0, 200.0]\n,Value in the end : [0.0, 100.0, 200.0]\n"
        }
      ],
      "execution_count": 4
    },
    {
      "id": "1ba72722-6c3f-4ef3-845a-3a39ff4144f0",
      "cell_type": "code",
      "source": "",
      "metadata": {},
      "outputs": [],
      "execution_count": null
    }
  ]
}
