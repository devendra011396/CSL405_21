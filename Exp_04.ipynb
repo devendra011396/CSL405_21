{
  "metadata": {
    "kernelspec": {
      "name": "python",
      "display_name": "Python (Pyodide)",
      "language": "python"
    },
    "language_info": {
      "codemirror_mode": {
        "name": "python",
        "version": 3
      },
      "file_extension": ".py",
      "mimetype": "text/x-python",
      "name": "python",
      "nbconvert_exporter": "python",
      "pygments_lexer": "ipython3",
      "version": "3.8"
    }
  },
  "nbformat_minor": 5,
  "nbformat": 4,
  "cells": [
    {
      "id": "de2b0d7d-bb3e-41be-a664-3d0664a46a48",
      "cell_type": "markdown",
      "source": "DEVENDRA 21",
      "metadata": {}
    },
    {
      "id": "e8240ea0-60ad-4f56-86e2-51ab261aed18",
      "cell_type": "code",
      "source": "'''import os\n\nfiles = [f for f in os.listdir('.') if os.path.isfile(f)]\n\nprint(\"Files in the current directory:\")\nfor file in files:\n    print(file)\n'''\n'''\nThe above scipt uses os module to perform the required function.\nUtilize the pathlib module to perform the same functionality.\n'''\n\nfrom pathlib import Path\n\nfiles = [f.name for f in Path('.').iterdir() if f.is_file()]\n\nprint(\"Files in the current directory:\")\nfor file in files:\n    print(file)",
      "metadata": {
        "trusted": true
      },
      "outputs": [
        {
          "name": "stdout",
          "output_type": "stream",
          "text": "Files in the current directory:\nExp_03.ipynb\nExp_04.ipynb\nfile.txt\n"
        }
      ],
      "execution_count": 3
    },
    {
      "id": "38f46000-8f9e-42ab-90e7-dde138569681",
      "cell_type": "code",
      "source": "",
      "metadata": {
        "trusted": true
      },
      "outputs": [],
      "execution_count": null
    }
  ]
}