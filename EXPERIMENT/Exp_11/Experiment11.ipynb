{
  "cells": [
    {
      "cell_type": "markdown",
      "id": "65b15804-6da0-4fb3-be5d-0a3fff7ffe85",
      "metadata": {
        "id": "65b15804-6da0-4fb3-be5d-0a3fff7ffe85"
      },
      "source": [
        "# DEVENDRA GURAV     AI&DS 21"
      ]
    },
    {
      "cell_type": "markdown",
      "id": "16fs2hMsyf6v",
      "metadata": {
        "id": "16fs2hMsyf6v"
      },
      "source": [
        "## Experiment - 11"
      ]
    },
    {
      "cell_type": "markdown",
      "id": "1942d334-5c69-4806-aad6-e13b6d70275e",
      "metadata": {
        "id": "1942d334-5c69-4806-aad6-e13b6d70275e"
      },
      "source": [
        "#### Data Series using Pandas"
      ]
    },
    {
      "cell_type": "code",
      "execution_count": 8,
      "id": "fa4d7f7a-fdd4-4ec7-b993-d3e4c4f30400",
      "metadata": {
        "id": "fa4d7f7a-fdd4-4ec7-b993-d3e4c4f30400",
        "trusted": true
      },
      "outputs": [],
      "source": [
        "import pandas as pd"
      ]
    },
    {
      "cell_type": "markdown",
      "id": "7064f6e2-4ba9-4699-9869-ac646b293e4c",
      "metadata": {
        "id": "7064f6e2-4ba9-4699-9869-ac646b293e4c"
      },
      "source": [
        "#### Create a Series from list"
      ]
    },
    {
      "cell_type": "code",
      "execution_count": 9,
      "id": "d915dddd-9c10-47d0-92ba-d27a64c9c15e",
      "metadata": {
        "colab": {
          "base_uri": "https://localhost:8080/",
          "height": 0
        },
        "id": "d915dddd-9c10-47d0-92ba-d27a64c9c15e",
        "outputId": "e3a21705-3535-48c6-8f29-cb77ddfb55a7",
        "trusted": true
      },
      "outputs": [
        {
          "name": "stdout",
          "output_type": "stream",
          "text": [
            "Series from list:\n",
            " 0    10\n",
            "1    20\n",
            "2    30\n",
            "3    40\n",
            "4    50\n",
            "dtype: int64\n"
          ]
        }
      ],
      "source": [
        "data_list = [10, 20, 30, 40, 50]\n",
        "series1 = pd.Series(data_list)\n",
        "print(\"Series from list:\\n\", series1)"
      ]
    },
    {
      "cell_type": "markdown",
      "id": "9588c81d-bf79-40d0-bbda-0fda524e137e",
      "metadata": {
        "id": "9588c81d-bf79-40d0-bbda-0fda524e137e"
      },
      "source": [
        "#### Create a Series with custom indices"
      ]
    },
    {
      "cell_type": "code",
      "execution_count": 10,
      "id": "6c89c886-de4c-4756-af60-211779261e8a",
      "metadata": {
        "colab": {
          "base_uri": "https://localhost:8080/",
          "height": 0
        },
        "id": "6c89c886-de4c-4756-af60-211779261e8a",
        "outputId": "c7f43cf4-47a6-4bf8-d28b-34a1c3255301",
        "trusted": true
      },
      "outputs": [
        {
          "name": "stdout",
          "output_type": "stream",
          "text": [
            "Series with custom index:\n",
            " a    10\n",
            "b    20\n",
            "c    30\n",
            "d    40\n",
            "e    50\n",
            "dtype: int64\n"
          ]
        }
      ],
      "source": [
        "custom_index = ['a', 'b', 'c', 'd', 'e']\n",
        "series2 = pd.Series(data_list, index=custom_index)\n",
        "print(\"Series with custom index:\\n\", series2)"
      ]
    },
    {
      "cell_type": "markdown",
      "id": "bf520b83-3358-4d42-8f2c-717ca3ccd89c",
      "metadata": {
        "id": "bf520b83-3358-4d42-8f2c-717ca3ccd89c"
      },
      "source": [
        "#### Accessing elements"
      ]
    },
    {
      "cell_type": "code",
      "execution_count": 11,
      "id": "971e9106-18f9-4839-9056-da43a4ff47d3",
      "metadata": {
        "colab": {
          "base_uri": "https://localhost:8080/",
          "height": 0
        },
        "id": "971e9106-18f9-4839-9056-da43a4ff47d3",
        "outputId": "989a1d33-5b1c-4462-bb79-bf00051dd0a9",
        "trusted": true
      },
      "outputs": [
        {
          "name": "stdout",
          "output_type": "stream",
          "text": [
            "Accessing element at index 'c': 30\n"
          ]
        }
      ],
      "source": [
        "print(\"Accessing element at index 'c':\", series2['c'])"
      ]
    },
    {
      "cell_type": "markdown",
      "id": "6d90e293-a14d-4bf7-a54e-6e44535c45f1",
      "metadata": {
        "id": "6d90e293-a14d-4bf7-a54e-6e44535c45f1"
      },
      "source": [
        "#### Performing operations on Series"
      ]
    },
    {
      "cell_type": "code",
      "execution_count": 12,
      "id": "2b37492c-f144-4fb2-8728-725899df4055",
      "metadata": {
        "colab": {
          "base_uri": "https://localhost:8080/",
          "height": 0
        },
        "id": "2b37492c-f144-4fb2-8728-725899df4055",
        "outputId": "49157c08-60f3-482e-cf5b-7cc4b96f55b7",
        "trusted": true
      },
      "outputs": [
        {
          "name": "stdout",
          "output_type": "stream",
          "text": [
            "Adding 5 to each element:\n",
            " a    15\n",
            "b    25\n",
            "c    35\n",
            "d    45\n",
            "e    55\n",
            "dtype: int64\n"
          ]
        }
      ],
      "source": [
        "print(\"Adding 5 to each element:\\n\", series2 + 5)"
      ]
    },
    {
      "cell_type": "markdown",
      "id": "fec6b4a4-0635-4e05-9718-577d84cf7866",
      "metadata": {
        "id": "fec6b4a4-0635-4e05-9718-577d84cf7866"
      },
      "source": [
        "#### Create Series from a dictionary"
      ]
    },
    {
      "cell_type": "code",
      "execution_count": 13,
      "id": "275e54c4-0ae8-4f5a-ab36-0e9f99e56ec1",
      "metadata": {
        "colab": {
          "base_uri": "https://localhost:8080/",
          "height": 0
        },
        "id": "275e54c4-0ae8-4f5a-ab36-0e9f99e56ec1",
        "outputId": "83c6dcef-8a28-4090-b173-9167d6ac8127",
        "trusted": true
      },
      "outputs": [
        {
          "name": "stdout",
          "output_type": "stream",
          "text": [
            "Series from dictionary:\n",
            " Math         80\n",
            "Physics      90\n",
            "Chemistry    85\n",
            "dtype: int64\n"
          ]
        }
      ],
      "source": [
        "data_dict = {'Math': 80, 'Physics': 90, 'Chemistry': 85}\n",
        "series3 = pd.Series(data_dict)\n",
        "print(\"Series from dictionary:\\n\", series3)"
      ]
    },
    {
      "cell_type": "markdown",
      "id": "9ec93402-1029-443f-845b-ec685939be7a",
      "metadata": {
        "id": "9ec93402-1029-443f-845b-ec685939be7a"
      },
      "source": [
        "#### Check basic statistics"
      ]
    },
    {
      "cell_type": "code",
      "execution_count": 14,
      "id": "abce2834-49a8-4037-8c11-213dbfa82fc3",
      "metadata": {
        "colab": {
          "base_uri": "https://localhost:8080/",
          "height": 0
        },
        "id": "abce2834-49a8-4037-8c11-213dbfa82fc3",
        "outputId": "c15ea66e-efb4-4c0c-b7d7-f59fb28c4609",
        "trusted": true
      },
      "outputs": [
        {
          "name": "stdout",
          "output_type": "stream",
          "text": [
            "Maximum marks: 90\n",
            "Subjects scored above 85: \n",
            " Physics    90\n",
            "dtype: int64\n"
          ]
        }
      ],
      "source": [
        "print(\"Maximum marks:\", series3.max())\n",
        "print(\"Subjects scored above 85: \\n\", series3[series3 > 85])"
      ]
    }
  ],
  "metadata": {
    "colab": {
      "provenance": []
    },
    "kernelspec": {
      "display_name": "Python (Pyodide)",
      "language": "python",
      "name": "python"
    },
    "language_info": {
      "codemirror_mode": {
        "name": "python",
        "version": 3
      },
      "file_extension": ".py",
      "mimetype": "text/x-python",
      "name": "python",
      "nbconvert_exporter": "python",
      "pygments_lexer": "ipython3",
      "version": "3.8"
    }
  },
  "nbformat": 4,
  "nbformat_minor": 5
}
